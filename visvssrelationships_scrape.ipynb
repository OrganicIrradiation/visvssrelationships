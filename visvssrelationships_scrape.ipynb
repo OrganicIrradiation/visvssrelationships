{
 "metadata": {
  "name": "",
  "signature": "sha256:340954b8a65ac8afb68f52bdbf40995384cbf20d7a41aca568a5b1ecb1cd373f"
 },
 "nbformat": 3,
 "nbformat_minor": 0,
 "worksheets": [
  {
   "cells": [
    {
     "cell_type": "code",
     "collapsed": false,
     "input": [
      "import re\n",
      "import string\n",
      "import urllib2\n",
      "from bs4 import BeautifulSoup\n",
      "\n",
      "def get_soup(url):\n",
      "    page = urllib2.urlopen(url)\n",
      "    data = page.read()\n",
      "    return BeautifulSoup(data)\n",
      "\n",
      "from ipy_progressbar import ProgressBar"
     ],
     "language": "python",
     "metadata": {},
     "outputs": []
    },
    {
     "cell_type": "code",
     "collapsed": false,
     "input": [
      "# Create the author list\n",
      "author_nums = []\n",
      "for letter in ProgressBar(list(string.ascii_uppercase)):\n",
      "    url = 'http://visionsciences1.org/vss_public/mobile/author_index.php?view={0}#overview'.format(letter)\n",
      "    soup = get_soup(url)\n",
      "    for link in soup.findAll('div', align='left'):\n",
      "        author_nums.append(re.findall(r'id=(\\d*)',link.a.get('href'))[0])"
     ],
     "language": "python",
     "metadata": {},
     "outputs": []
    },
    {
     "cell_type": "code",
     "collapsed": false,
     "input": [
      "# Create the abstract list\n",
      "abstract_nums = []\n",
      "for author in ProgressBar(author_nums):\n",
      "    url = 'http://visionsciences1.org/vss_public/mobile/authors_index_list.php?id={0}#overview'.format(author)\n",
      "    soup = get_soup(url)\n",
      "    for link in soup.find_all('a'):\n",
      "        href = link.get('href')\n",
      "        if href:\n",
      "            abstract = re.findall(r'abstractno=(\\d*)', href)\n",
      "            if len(abstract) > 0:\n",
      "                abstract_nums.append(abstract[0])\n",
      "abstract_nums = list(set(abstract_nums))"
     ],
     "language": "python",
     "metadata": {},
     "outputs": []
    },
    {
     "cell_type": "code",
     "collapsed": false,
     "input": [
      "abstracts = {}\n",
      "for abstract in ProgressBar(abstract_nums):\n",
      "    abstracts[abstract] = {}\n",
      "    url = 'http://visionsciences1.org/vss_public/core_routines/view_abstract_no.php?abstractno={0}'.format(abstract)\n",
      "    soup = get_soup(url)\n",
      "    abstracts[abstract]['title'] = soup.table.findAll('tr')[0].text.strip()\n",
      "    authinfo = soup.table.findAll('tr')[1]\n",
      "    [t.extract() for t in authinfo.findAll('sup')]\n",
      "    authinfo = str(authinfo).split('<br>')\n",
      "    abstracts[abstract]['author'] = BeautifulSoup(authinfo[0]).text.strip().split(', ')\n",
      "    abstracts[abstract]['affiliation'] = BeautifulSoup('\\n'.join(authinfo[1:])).text.strip().split('\\n')\n",
      "    soup.i.extract()\n",
      "    abstracts[abstract]['abstract'] = soup.text.strip()"
     ],
     "language": "python",
     "metadata": {},
     "outputs": []
    },
    {
     "cell_type": "code",
     "collapsed": false,
     "input": [
      "import cPickle\n",
      "with open('visvssrelationships_data_2015.p', 'w') as f:\n",
      "    cPickle.dump(abstracts, f, protocol=cPickle.HIGHEST_PROTOCOL)"
     ],
     "language": "python",
     "metadata": {},
     "outputs": []
    },
    {
     "cell_type": "code",
     "collapsed": false,
     "input": [],
     "language": "python",
     "metadata": {},
     "outputs": []
    }
   ],
   "metadata": {}
  }
 ]
}