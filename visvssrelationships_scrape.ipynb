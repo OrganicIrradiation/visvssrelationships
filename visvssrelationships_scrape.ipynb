{
 "cells": [
  {
   "cell_type": "code",
   "execution_count": 1,
   "metadata": {
    "collapsed": false
   },
   "outputs": [],
   "source": [
    "import re\n",
    "import string\n",
    "import aiohttp\n",
    "import asyncio\n",
    "import requests\n",
    "from bs4 import BeautifulSoup\n",
    "from tqdm import tqdm\n",
    "\n",
    "CONCURRENT_REQUESTS = 20"
   ]
  },
  {
   "cell_type": "code",
   "execution_count": 2,
   "metadata": {
    "collapsed": false
   },
   "outputs": [
    {
     "name": "stderr",
     "output_type": "stream",
     "text": [
      "100%|██████████| 26/26 [00:02<00:00,  7.76it/s]\n"
     ]
    }
   ],
   "source": [
    "@asyncio.coroutine\n",
    "def fetch(url, semaphore):\n",
    "    try:\n",
    "        with (yield from semaphore):\n",
    "            with aiohttp.Timeout(60):\n",
    "                response = yield from aiohttp.get(url)\n",
    "                html = yield from response.text(encoding='ISO-8859-1')\n",
    "                return html\n",
    "    except asyncio.TimeoutError:\n",
    "        print('Timeout: {}'.format(url))\n",
    "        return (yield from fetch(url, semaphore))\n",
    "\n",
    "@asyncio.coroutine\n",
    "def get_soup(url, semaphore):\n",
    "    with (yield from semaphore):\n",
    "        html = yield from fetch(url, semaphore)\n",
    "        return (BeautifulSoup(html, 'html.parser'), url)\n",
    "    \n",
    "# Create the author list\n",
    "@asyncio.coroutine\n",
    "def extract_author_nums(urls, semaphore):\n",
    "    out_list = []\n",
    "    for item in tqdm(asyncio.as_completed([get_soup(u, semaphore) for u in urls]), total=len(urls)):\n",
    "        soup, outurl = yield from item\n",
    "        for link in soup.findAll('div', align='left'):\n",
    "            out_list.append(re.findall(r'id=(\\d*)', link.a.get('href'))[0])\n",
    "    return out_list\n",
    "\n",
    "list_of_urls = []\n",
    "for letter in string.ascii_uppercase:\n",
    "    list_of_urls.append('http://visionsciences1.org/vss_public/mobile/author_index.php?view={}#overview'.format(letter))\n",
    "\n",
    "semaphore = asyncio.Semaphore(CONCURRENT_REQUESTS)\n",
    "loop = asyncio.get_event_loop()\n",
    "author_nums = loop.run_until_complete(extract_author_nums(list_of_urls, semaphore))\n",
    "author_nums = list(set(author_nums))"
   ]
  },
  {
   "cell_type": "code",
   "execution_count": 3,
   "metadata": {
    "collapsed": true
   },
   "outputs": [],
   "source": [
    "response = requests.get('http://visionsciences1.org/vss_public/mobile/authors_index_list.php?id=64245#overview')\n",
    "soup = BeautifulSoup(response.text, 'html.parser')"
   ]
  },
  {
   "cell_type": "code",
   "execution_count": 4,
   "metadata": {
    "collapsed": false
   },
   "outputs": [
    {
     "name": "stderr",
     "output_type": "stream",
     "text": [
      "100%|██████████| 3500/3500 [01:17<00:00, 47.21it/s]\n"
     ]
    }
   ],
   "source": [
    "list_of_urls = []\n",
    "for author in author_nums:\n",
    "    list_of_urls.append('http://visionsciences1.org/vss_public/mobile/authors_index_list.php?id={}#overview'.format(author))\n",
    "\n",
    "@asyncio.coroutine\n",
    "def extract_abstract_nums(urls, semaphore):\n",
    "    abstracts = {}\n",
    "    for item in tqdm(asyncio.as_completed([get_soup(u, semaphore) for u in urls]), total=len(urls)):\n",
    "        soup, outurl = yield from item\n",
    "        for link in soup.find_all('a', href=re.compile('abstractno='))[::2]:\n",
    "            abstract_num = int(re.findall(r'abstractno=(\\d*)', link.get('href'))[0])\n",
    "            abstracts[abstract_num] = {}\n",
    "            abstracts[abstract_num]['id'] = link.text.strip()\n",
    "    return abstracts\n",
    "\n",
    "semaphore = asyncio.Semaphore(CONCURRENT_REQUESTS)\n",
    "loop = asyncio.get_event_loop()\n",
    "abstracts = loop.run_until_complete(extract_abstract_nums(list_of_urls, semaphore))"
   ]
  },
  {
   "cell_type": "code",
   "execution_count": 5,
   "metadata": {
    "collapsed": false
   },
   "outputs": [
    {
     "name": "stderr",
     "output_type": "stream",
     "text": [
      "100%|██████████| 1459/1459 [00:18<00:00, 77.36it/s]\n"
     ]
    }
   ],
   "source": [
    "list_of_urls = []\n",
    "for abstract_num in abstracts:\n",
    "    list_of_urls.append('http://visionsciences1.org/vss_public/core_routines/view_abstract_no.php?abstractno={}'.format(abstract_num))\n",
    "\n",
    "@asyncio.coroutine\n",
    "def extract_abstracts(urls, semaphore):\n",
    "    out_dict = {}\n",
    "    for item in tqdm(asyncio.as_completed([get_soup(u, semaphore) for u in urls]), total=len(urls)):\n",
    "        soup, outurl = yield from item\n",
    "        abstract = int(re.findall('abstractno=(\\d*)', outurl)[0])\n",
    "        out_dict[abstract] = {}\n",
    "        out_dict[abstract]['title'] = soup.table.findAll('tr')[0].text.strip()\n",
    "        authinfo = soup.table.findAll('tr')[1]\n",
    "        [t.extract() for t in authinfo.findAll('sup')]\n",
    "        authinfo = str(authinfo).split('<br>')\n",
    "        authors = BeautifulSoup(authinfo[0], 'html.parser').text.strip().split(', ')\n",
    "        out_dict[abstract]['author'] = [\" \".join(a.split()) for a in authors]\n",
    "        out_dict[abstract]['affiliation'] = BeautifulSoup('\\n'.join(authinfo[1:]), 'html.parser').text.strip().split('\\n')\n",
    "        soup.i.extract()\n",
    "        out_dict[abstract]['abstract'] = soup.text.strip()\n",
    "    return out_dict\n",
    "\n",
    "semaphore = asyncio.Semaphore(CONCURRENT_REQUESTS)\n",
    "loop = asyncio.get_event_loop()\n",
    "abstract_contents = loop.run_until_complete(extract_abstracts(list_of_urls, semaphore))\n",
    "for key in abstracts:\n",
    "    abstracts[key].update(abstract_contents[key])"
   ]
  },
  {
   "cell_type": "code",
   "execution_count": 6,
   "metadata": {
    "collapsed": false
   },
   "outputs": [],
   "source": [
    "import json\n",
    "with open('visvssrelationships_data_2016.json', 'w') as f:\n",
    "    json.dump(abstracts, f, indent=4)"
   ]
  },
  {
   "cell_type": "code",
   "execution_count": null,
   "metadata": {
    "collapsed": true
   },
   "outputs": [],
   "source": []
  }
 ],
 "metadata": {
  "kernelspec": {
   "display_name": "Python 3",
   "language": "python",
   "name": "python3"
  },
  "language_info": {
   "codemirror_mode": {
    "name": "ipython",
    "version": 3
   },
   "file_extension": ".py",
   "mimetype": "text/x-python",
   "name": "python",
   "nbconvert_exporter": "python",
   "pygments_lexer": "ipython3",
   "version": "3.5.1"
  }
 },
 "nbformat": 4,
 "nbformat_minor": 0
}
