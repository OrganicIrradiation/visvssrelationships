{
 "metadata": {
  "name": "",
  "signature": "sha256:bfcf197e91b991497e60b60e53e363a6af33aa75af957f9a64abe95c4bdb70bd"
 },
 "nbformat": 3,
 "nbformat_minor": 0,
 "worksheets": [
  {
   "cells": [
    {
     "cell_type": "code",
     "collapsed": false,
     "input": [
      "import cPickle\n",
      "\n",
      "# Load our preprocessed abstract data\n",
      "with open('visvssrelationships_data_2015.p', 'r') as f:\n",
      "    abstracts = cPickle.load(f)"
     ],
     "language": "python",
     "metadata": {},
     "outputs": [],
     "prompt_number": 1
    },
    {
     "cell_type": "code",
     "collapsed": false,
     "input": [
      "import difflib\n",
      "\n",
      "list_of_lists = [abstracts[a]['author'] for a in abstracts]\n",
      "originalList = set([val for sublist in list_of_lists for val in sublist])\n",
      "\n",
      "authorList = set()\n",
      "while originalList:\n",
      "    authorA = originalList.pop()\n",
      "    deleteSet = set()\n",
      "    for authorB in originalList:\n",
      "        ratio = difflib.SequenceMatcher(None, authorA, authorB).ratio()\n",
      "        if ((ratio > 0.9) & (ratio != 1.0)):\n",
      "            print 'authorA:', authorA\n",
      "            print 'authorB:', authorB\n",
      "            print ' Ratio:', ratio\n",
      "            deleteSet.add(authorB)\n",
      "    originalList.difference_update(deleteSet)\n",
      "    authorList.add(authorA)\n",
      "    print len(authorList),'+',len(originalList),'=',len(authorList)+len(originalList)"
     ],
     "language": "python",
     "metadata": {},
     "outputs": []
    },
    {
     "cell_type": "code",
     "collapsed": false,
     "input": [
      "import networkx as nx\n",
      "import json\n",
      "from networkx.readwrite import json_graph\n",
      "from ipy_progressbar import ProgressBar\n",
      "\n",
      "# Use this to find the closest authors (assuming the authorList is pre-pruned)\n",
      "def findClosestAuthor(name,authorList):\n",
      "    maxRatio = 0.0\n",
      "    outAuthor = None\n",
      "    for author in authorList:\n",
      "        ratio = difflib.SequenceMatcher(None, author, name).ratio()\n",
      "        if (ratio > maxRatio):\n",
      "            outAuthor = author\n",
      "            maxRatio = ratio\n",
      "    return outAuthor\n",
      "\n",
      "# Loop through each abstract and add edges between the authors' names\n",
      "# and the title of the abstract.\n",
      "G = nx.Graph()\n",
      "for a in ProgressBar(abstracts):\n",
      "    title = abstracts[a]['title']\n",
      "    \n",
      "    for name in abstracts[a]['author']:\n",
      "        author = findClosestAuthor(name, authorList)\n",
      "        G.add_edge(author, title)\n",
      "        if not 'group' in G.node[author]:\n",
      "            G.node[author]['group'] = 1\n",
      "        \n",
      "    firstAuthor = findClosestAuthor(abstracts[a]['author'][0], authorList)\n",
      "    G.node[firstAuthor]['group'] = 2\n",
      "    G.node[title]['group'] = 3\n",
      "\n",
      "# Loop through all the nodes and add the name property for D3.js\n",
      "for n in G:\n",
      "    G.node[n]['name'] = n\n",
      "    \n",
      "# Remove parallel edges\n",
      "G = nx.Graph(G)\n",
      "# Remove self loops\n",
      "G.remove_edges_from(G.selfloop_edges())\n",
      "\n",
      "# Export for D3.js\n",
      "d = json_graph.node_link_data(G) # node-link format to serialize\n",
      "json.dump(d, open('html/force.json','w'))\n",
      "\n",
      "# Use NetworkX to plot the data (I've had limited success)\n",
      "#import matplotlib.pyplot as plt\n",
      "#pos=nx.spring_layout(G) # positions for all nodes\n",
      "#nx.draw_networkx_nodes(G,pos,node_size=2,alpha=0.5)\n",
      "#nx.draw_networkx_edges(G,pos,alpha=0.25)\n",
      "#nx.draw_networkx_labels(G,pos,font_size=7,font_family='sans-serif')\n",
      "#plt.axis('off')\n",
      "#plt.show() # display"
     ],
     "language": "python",
     "metadata": {},
     "outputs": []
    },
    {
     "cell_type": "code",
     "collapsed": false,
     "input": [],
     "language": "python",
     "metadata": {},
     "outputs": []
    }
   ],
   "metadata": {}
  }
 ]
}